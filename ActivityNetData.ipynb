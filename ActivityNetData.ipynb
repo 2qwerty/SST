{
 "cells": [
  {
   "cell_type": "code",
   "execution_count": 1,
   "metadata": {
    "collapsed": false
   },
   "outputs": [
    {
     "name": "stderr",
     "output_type": "stream",
     "text": [
      "/Users/ineschami/emoji/lib/python2.7/site-packages/matplotlib/font_manager.py:273: UserWarning: Matplotlib is building the font cache using fc-list. This may take a moment.\n",
      "  warnings.warn('Matplotlib is building the font cache using fc-list. This may take a moment.')\n"
     ]
    }
   ],
   "source": [
    "import json\n",
    "import numpy as np\n",
    "import seaborn\n",
    "import matplotlib.pyplot as plt\n",
    "%matplotlib inline"
   ]
  },
  {
   "cell_type": "code",
   "execution_count": 2,
   "metadata": {
    "collapsed": true
   },
   "outputs": [],
   "source": [
    "data_path = 'data/ActivityNet/activity_net.v1-3.min.json'\n",
    "vid = json.load(open(data_path))['database']"
   ]
  },
  {
   "cell_type": "code",
   "execution_count": 3,
   "metadata": {
    "collapsed": true
   },
   "outputs": [],
   "source": [
    "durations = []\n",
    "nb_prop = []\n",
    "prop_durations = []"
   ]
  },
  {
   "cell_type": "code",
   "execution_count": 4,
   "metadata": {
    "collapsed": false
   },
   "outputs": [],
   "source": [
    "for i, vid_id in enumerate(vid.keys()):\n",
    "    durations.append(vid[vid_id]['duration'])\n",
    "    nb_prop.append(len(vid[vid_id]['annotations']))\n",
    "    for p in vid[vid_id]['annotations']:\n",
    "        prop_durations.append(p['segment'][1]-p['segment'][0])"
   ]
  },
  {
   "cell_type": "code",
   "execution_count": 5,
   "metadata": {
    "collapsed": false
   },
   "outputs": [],
   "source": [
    "nb_videos = len(durations)\n",
    "nb_prop = np.array(nb_prop)\n",
    "prop_durations = np.array(prop_durations)"
   ]
  },
  {
   "cell_type": "code",
   "execution_count": 6,
   "metadata": {
    "collapsed": false
   },
   "outputs": [
    {
     "name": "stdout",
     "output_type": "stream",
     "text": [
      "Total number of videos: 19994\n",
      "25.2275682705% of videos have no proposals\n",
      "Average number of proposals per video (excluding videos with no proposals: 1.54274247492\n",
      "Average video duration: 116.704419376\n",
      "Average proposal duration: 49.2139085214\n"
     ]
    }
   ],
   "source": [
    "print \"Total number of videos: {}\".format(nb_videos)\n",
    "print \"{}% of videos have no proposals\".format(100.*np.sum(nb_prop==0)/nb_videos)\n",
    "print \"Average number of proposals per video (excluding videos with no proposals: {}\".format(nb_prop[nb_prop!=0].mean())\n",
    "print \"Average video duration: {}\".format(np.mean(durations))\n",
    "print \"Average proposal duration: {}\".format(np.mean(prop_durations))"
   ]
  },
  {
   "cell_type": "code",
   "execution_count": 7,
   "metadata": {
    "collapsed": false
   },
   "outputs": [
    {
     "data": {
      "image/png": "[encoded data removed]",
      "text/plain": [
       "<matplotlib.figure.Figure at 0x1104f4e10>"
      ]
     },
     "metadata": {},
     "output_type": "display_data"
    }
   ],
   "source": [
    "plt.hist(durations, bins=100)\n",
    "plt.xlabel('Durations')\n",
    "plt.ylabel('Nb videos')\n",
    "plt.title('Distribution of video duration (in seconds)')\n",
    "plt.axis([0, 400, 0, 2000])\n",
    "plt.grid(True)\n",
    "plt.show()"
   ]
  },
  {
   "cell_type": "code",
   "execution_count": 8,
   "metadata": {
    "collapsed": false
   },
   "outputs": [
    {
     "data": {
      "image/png": "[encoded data removed]",
      "text/plain": [
       "<matplotlib.figure.Figure at 0x112e45e10>"
      ]
     },
     "metadata": {},
     "output_type": "display_data"
    }
   ],
   "source": [
    "plt.hist(prop_durations, bins=100)\n",
    "plt.xlabel('proposal duration')\n",
    "plt.ylabel('Nb videos')\n",
    "plt.title('Distribution of propsals duration (in seconds)')\n",
    "plt.axis([0, 250, 0, 3500])\n",
    "plt.grid(True)\n",
    "plt.show()"
   ]
  },
  {
   "cell_type": "code",
   "execution_count": 9,
   "metadata": {
    "collapsed": true
   },
   "outputs": [],
   "source": [
    "def proportion_of_prop_captured(K, prop_durations, c3d_feats_length):\n",
    "    max_length = K*c3d_feats_length\n",
    "    return np.mean(prop_durations<=max_length)"
   ]
  },
  {
   "cell_type": "code",
   "execution_count": 10,
   "metadata": {
    "collapsed": false
   },
   "outputs": [
    {
     "name": "stdout",
     "output_type": "stream",
     "text": [
      "Computing proportion of proposals captured for different values of K\n",
      "K = 16 : 0.157865071106\n",
      "K = 64 : 0.450572320499\n",
      "K = 128 : 0.611949358307\n",
      "K = 256 : 0.786203607353\n",
      "K = 512 : 0.951135969476\n"
     ]
    }
   ],
   "source": [
    "print \"Computing proportion of proposals captured for different values of K\"\n",
    "for K in [16, 64, 128, 256, 512]:\n",
    "    print \"K = {} : {}\".format(K, proportion_of_prop_captured(K, prop_durations, 0.33))"
   ]
  }
 ],
 "metadata": {
  "kernelspec": {
   "display_name": "Python 2",
   "language": "python",
   "name": "python2"
  },
  "language_info": {
   "codemirror_mode": {
    "name": "ipython",
    "version": 2
   },
   "file_extension": ".py",
   "mimetype": "text/x-python",
   "name": "python",
   "nbconvert_exporter": "python",
   "pygments_lexer": "ipython2",
   "version": "2.7.10"
  }
 },
 "nbformat": 4,
 "nbformat_minor": 0
}
